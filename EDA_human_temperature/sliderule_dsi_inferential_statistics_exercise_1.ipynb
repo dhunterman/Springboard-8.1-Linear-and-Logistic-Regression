{
 "cells": [
  {
   "cell_type": "markdown",
   "metadata": {},
   "source": [
    "# What is the True Normal Human Body Temperature? \n",
    "\n",
    "#### Background\n",
    "\n",
    "The mean normal body temperature was held to be 37$^{\\circ}$C or 98.6$^{\\circ}$F for more than 120 years since it was first conceptualized and reported by Carl Wunderlich in a famous 1868 book. But, is this value statistically correct?"
   ]
  },
  {
   "cell_type": "markdown",
   "metadata": {},
   "source": [
    "<h3>Exercises</h3>\n",
    "\n",
    "<p>In this exercise, you will analyze a dataset of human body temperatures and employ the concepts of hypothesis testing, confidence intervals, and statistical significance.</p>\n",
    "\n",
    "<p>Answer the following questions <b>in this notebook below and submit to your Github account</b>.</p> \n",
    "\n",
    "<ol>\n",
    "<li>  Is the distribution of body temperatures normal? \n",
    "    <ul>\n",
    "    <li> Although this is not a requirement for the Central Limit Theorem to hold (read the introduction on Wikipedia's page about the CLT carefully: https://en.wikipedia.org/wiki/Central_limit_theorem), it gives us some peace of mind that the population may also be normally distributed if we assume that this sample is representative of the population.\n",
    "    <li> Think about the way you're going to check for the normality of the distribution. Graphical methods are usually used first, but there are also other ways: https://en.wikipedia.org/wiki/Normality_test\n",
    "    </ul>\n",
    "<li>  Is the sample size large? Are the observations independent?\n",
    "    <ul>\n",
    "    <li> Remember that this is a condition for the Central Limit Theorem, and hence the statistical tests we are using, to apply.\n",
    "    </ul>\n",
    "<li>  Is the true population mean really 98.6 degrees F?\n",
    "    <ul>\n",
    "    <li> First, try a bootstrap hypothesis test.\n",
    "    <li> Now, let's try frequentist statistical testing. Would you use a one-sample or two-sample test? Why?\n",
    "    <li> In this situation, is it appropriate to use the $t$ or $z$ statistic? \n",
    "    <li> Now try using the other test. How is the result be different? Why?\n",
    "    </ul>\n",
    "<li>  Draw a small sample of size 10 from the data and repeat both frequentist tests. \n",
    "    <ul>\n",
    "    <li> Which one is the correct one to use? \n",
    "    <li> What do you notice? What does this tell you about the difference in application of the $t$ and $z$ statistic?\n",
    "    </ul>\n",
    "<li>  At what temperature should we consider someone's temperature to be \"abnormal\"?\n",
    "    <ul>\n",
    "    <li> As in the previous example, try calculating everything using the boostrap approach, as well as the frequentist approach.\n",
    "    <li> Start by computing the margin of error and confidence interval. When calculating the confidence interval, keep in mind that you should use the appropriate formula for one draw, and not N draws.\n",
    "    </ul>\n",
    "<li>  Is there a significant difference between males and females in normal temperature?\n",
    "    <ul>\n",
    "    <li> What testing approach did you use and why?\n",
    "    <li> Write a story with your conclusion in the context of the original problem.\n",
    "    </ul>\n",
    "</ol>\n",
    "\n",
    "You can include written notes in notebook cells using Markdown: \n",
    "   - In the control panel at the top, choose Cell > Cell Type > Markdown\n",
    "   - Markdown syntax: http://nestacms.com/docs/creating-content/markdown-cheat-sheet\n",
    "\n",
    "#### Resources\n",
    "\n",
    "+ Information and data sources: http://www.amstat.org/publications/jse/datasets/normtemp.txt, http://www.amstat.org/publications/jse/jse_data_archive.htm\n",
    "+ Markdown syntax: http://nestacms.com/docs/creating-content/markdown-cheat-sheet\n",
    "\n",
    "****"
   ]
  },
  {
   "cell_type": "code",
   "execution_count": 63,
   "metadata": {},
   "outputs": [],
   "source": [
    "import pandas as pd\n",
    "import seaborn as sns\n",
    "import numpy as np\n",
    "import matplotlib.pyplot as plt\n",
    "from scipy import stats\n",
    "import math\n",
    "\n",
    "df = pd.read_csv('data/human_body_temperature.csv')"
   ]
  },
  {
   "cell_type": "markdown",
   "metadata": {},
   "source": [
    "# 1. is the distribution of body temperatures normal? \n",
    "https://www.ncbi.nlm.nih.gov/pmc/articles/PMC3693611/\n",
    "\n",
    "\n",
    "\n",
    "\n",
    "\n"
   ]
  },
  {
   "cell_type": "code",
   "execution_count": 64,
   "metadata": {},
   "outputs": [
    {
     "name": "stdout",
     "output_type": "stream",
     "text": [
      "130\n"
     ]
    }
   ],
   "source": [
    "#some EDA\n",
    "print(len(df))\n",
    "df.head()\n",
    "#define ECDF\n",
    "def ecdf(data):\n",
    "    \"\"\"Compute ECDF for a one-dimensional array of measurements.\"\"\"\n",
    "    # Number of data points: n\n",
    "    n = len(data)\n",
    "\n",
    "    # x-data for the ECDF: x\n",
    "    x = np.sort(data)\n",
    "\n",
    "    # y-data for the ECDF: y\n",
    "    y = np.arange(1, n+1) / n\n",
    "\n",
    "    return x, y"
   ]
  },
  {
   "cell_type": "code",
   "execution_count": 65,
   "metadata": {},
   "outputs": [
    {
     "data": {
      "text/plain": [
       "<function matplotlib.pyplot.show(*args, **kw)>"
      ]
     },
     "execution_count": 65,
     "metadata": {},
     "output_type": "execute_result"
    },
    {
     "data": {
      "image/png": "[encoded data removed]",
      "text/plain": [
       "<Figure size 432x288 with 1 Axes>"
      ]
     },
     "metadata": {
      "needs_background": "light"
     },
     "output_type": "display_data"
    }
   ],
   "source": [
    "#visual inspection of data\n",
    "x_t, y_t = ecdf(df['temperature'])\n",
    "#create sample distribution based on mean and standard deviation of body temp data for visual comparison\n",
    "norm_dist = np.random.normal(np.mean(df['temperature']),np.std(df['temperature']), size=10000)\n",
    "x_normdist, y_normdist = ecdf(norm_dist)\n",
    "\n",
    "_=plt.plot(x_t, y_t, marker='.')\n",
    "_=plt.plot(x_normdist, y_normdist, marker='.')\n",
    "plt.margins(0.02)\n",
    "_=plt.xlabel('Temperature (F)')\n",
    "_=plt.ylabel('ECDF')\n",
    "_=plt.legend(('normal distribution','temp data'))\n",
    "plt.show"
   ]
  },
  {
   "cell_type": "markdown",
   "metadata": {},
   "source": [
    "Distribution looks normal!\n",
    "\n",
    "\n",
    "# 2. Is the sample size large? Yes, because N = 130. Are the observations independent? \n",
    "Yes, the observations are independent because one observation (temperature, female, heart rate) does not affect another observation.\n",
    "Is the true population mean really 98.6 degrees F?\n",
    "\n",
    "Ho: x_bar = 98.6\n",
    "\n",
    "Ha: x_bar != 98.6"
   ]
  },
  {
   "cell_type": "code",
   "execution_count": 66,
   "metadata": {},
   "outputs": [
    {
     "data": {
      "text/html": [
       "<div>\n",
       "<style scoped>\n",
       "    .dataframe tbody tr th:only-of-type {\n",
       "        vertical-align: middle;\n",
       "    }\n",
       "\n",
       "    .dataframe tbody tr th {\n",
       "        vertical-align: top;\n",
       "    }\n",
       "\n",
       "    .dataframe thead th {\n",
       "        text-align: right;\n",
       "    }\n",
       "</style>\n",
       "<table border=\"1\" class=\"dataframe\">\n",
       "  <thead>\n",
       "    <tr style=\"text-align: right;\">\n",
       "      <th></th>\n",
       "      <th>temperature</th>\n",
       "      <th>heart_rate</th>\n",
       "    </tr>\n",
       "  </thead>\n",
       "  <tbody>\n",
       "    <tr>\n",
       "      <th>count</th>\n",
       "      <td>130.000000</td>\n",
       "      <td>130.000000</td>\n",
       "    </tr>\n",
       "    <tr>\n",
       "      <th>mean</th>\n",
       "      <td>98.249231</td>\n",
       "      <td>73.761538</td>\n",
       "    </tr>\n",
       "    <tr>\n",
       "      <th>std</th>\n",
       "      <td>0.733183</td>\n",
       "      <td>7.062077</td>\n",
       "    </tr>\n",
       "    <tr>\n",
       "      <th>min</th>\n",
       "      <td>96.300000</td>\n",
       "      <td>57.000000</td>\n",
       "    </tr>\n",
       "    <tr>\n",
       "      <th>25%</th>\n",
       "      <td>97.800000</td>\n",
       "      <td>69.000000</td>\n",
       "    </tr>\n",
       "    <tr>\n",
       "      <th>50%</th>\n",
       "      <td>98.300000</td>\n",
       "      <td>74.000000</td>\n",
       "    </tr>\n",
       "    <tr>\n",
       "      <th>75%</th>\n",
       "      <td>98.700000</td>\n",
       "      <td>79.000000</td>\n",
       "    </tr>\n",
       "    <tr>\n",
       "      <th>max</th>\n",
       "      <td>100.800000</td>\n",
       "      <td>89.000000</td>\n",
       "    </tr>\n",
       "  </tbody>\n",
       "</table>\n",
       "</div>"
      ],
      "text/plain": [
       "       temperature  heart_rate\n",
       "count   130.000000  130.000000\n",
       "mean     98.249231   73.761538\n",
       "std       0.733183    7.062077\n",
       "min      96.300000   57.000000\n",
       "25%      97.800000   69.000000\n",
       "50%      98.300000   74.000000\n",
       "75%      98.700000   79.000000\n",
       "max     100.800000   89.000000"
      ]
     },
     "execution_count": 66,
     "metadata": {},
     "output_type": "execute_result"
    }
   ],
   "source": [
    "\n",
    "df.describe()\n"
   ]
  },
  {
   "cell_type": "markdown",
   "metadata": {},
   "source": [
    "# 3. Is the true population mean really 98.6 degrees F?\n",
    "\n",
    " First, try a bootstrap hypothesis test. \n",
    " Now, let's try frequentist statistical testing. Would you use a one-sample or two-sample test? Why? \n",
    " In this situation, is it appropriate to use the  𝑡  or  𝑧  statistic? \n",
    " Now try using the other test. How is the result be different? Why?\n",
    "\n",
    "**First, try a bootstrap hypothesis test.** \n",
    "\n",
    "A bootstrap hypothesis test involves creating a second data set that randomly pulls values from the sample data set with replacement. This code creates n1 samples of randomly generated means of data sampled from\n",
    "df.temperature."
   ]
  },
  {
   "cell_type": "code",
   "execution_count": 67,
   "metadata": {},
   "outputs": [
    {
     "name": "stdout",
     "output_type": "stream",
     "text": [
      "0.0\n",
      "98.24882446153845\n"
     ]
    }
   ],
   "source": [
    "BS_sample1 = np.empty(10000)\n",
    "\n",
    "n1 = len(BS_sample1)\n",
    "\n",
    "for i in range(n1):\n",
    "    BS_sample2 = np.random.choice(df.temperature, len(df.temperature))\n",
    "    BS_sample1[i] = np.mean(BS_sample2)\n",
    "    \n",
    "p = np.sum(BS_sample1 >= 98.6) / 2\n",
    "#p-value = (# boot-test-statistics >= observed test-statistic)/# bootstrap samples\n",
    "\n",
    "print(p)\n",
    "print(np.mean(BS_sample1))\n",
    "\n"
   ]
  },
  {
   "cell_type": "markdown",
   "metadata": {},
   "source": [
    "With a p-value of < 0.5, we can reject the null hypothesis. This indicates that the true mean body temperature is less than 98.6 F.\n",
    "\n",
    "**Now, let's try frequentist statistical testing.** Would you use a one-sample or two-sample test? Why?"
   ]
  },
  {
   "cell_type": "code",
   "execution_count": 68,
   "metadata": {},
   "outputs": [
    {
     "name": "stdout",
     "output_type": "stream",
     "text": [
      "-5.4548232923645195\n",
      "2.4106320415561276e-07\n"
     ]
    }
   ],
   "source": [
    "#Now, let's try frequentist statistical testing. Would you use a one-sample or two-sample test? Why?\n",
    "#we will use a one-sample test because we are comparing a sample mean (98.2499) to a known population mean (98.6)\n",
    "\n",
    "#In this situation, is it appropriate to use the  𝑡  or  𝑧  statistic?\n",
    "#we want to use the T test since the population standard deviation is not known\n",
    "#Ho: x_bar = 98.6\n",
    "#Ha: x_bar != 98.6\n",
    "#T-test:\n",
    "t_stat = stats.ttest_1samp(df.temperature, 98.6)[0]\n",
    "p_stat = stats.ttest_1samp(df.temperature, 98.6)[1]\n",
    "print(t_stat)\n",
    "print(p_stat)\n",
    "\n",
    "\n",
    "\n"
   ]
  },
  {
   "cell_type": "markdown",
   "metadata": {},
   "source": [
    "**Now try using the other test. How is the result be different? Why?**"
   ]
  },
  {
   "cell_type": "code",
   "execution_count": 69,
   "metadata": {},
   "outputs": [
    {
     "name": "stdout",
     "output_type": "stream",
     "text": [
      "-5.475925202078116\n",
      "4.3523151658821886e-08\n"
     ]
    }
   ],
   "source": [
    "#Z statistic can be estimated using the standard error of mean\n",
    "sem = np.std(df.temperature)/np.sqrt(len(df.temperature))\n",
    "z_stat = (np.mean(df.temperature) - 98.6)/sem\n",
    "pz_stat = 2*stats.norm.cdf(z_stat)\n",
    "\n",
    "print(z_stat)\n",
    "print(pz_stat)"
   ]
  },
  {
   "cell_type": "markdown",
   "metadata": {},
   "source": [
    "Z-tests are statistical calculations that are used to compare a population mean to a sample mean. T-tests determine if there is a statistically significant difference between two independent sample groups. \n",
    "The result is be different because the z-test and t-test use different equations to compute the number of standard deviations the result is away from the population mean.\n",
    "At values much greater than 30, the Z- and T-tests produce identical values.\n",
    "\n",
    "**Z-test: z = (X-mu)/sigma, where:**<br>\n",
    "    X = sample mean <br>\n",
    "    mu = population mean (98.6) <br>\n",
    "    sigma = population standard deviation <br>\n",
    "\n",
    "**T-test: t = (X - mu)/(s/sqrt(n)), where:**<br>\n",
    "    X = sample mean <br>\n",
    "    mu = population mean (98.6) <br>\n",
    "    sigma = population standard deviation <br>"
   ]
  },
  {
   "cell_type": "markdown",
   "metadata": {},
   "source": [
    "# **4. Draw a small sample of size 10 from the data and repeat both frequentist tests.**\n",
    "\n",
    "Which one is the correct one to use?\n",
    "\n",
    "What do you notice? What does this tell you about the difference in application of the  𝑡  and  𝑧  statistic?"
   ]
  },
  {
   "cell_type": "code",
   "execution_count": 70,
   "metadata": {},
   "outputs": [
    {
     "data": {
      "text/plain": [
       "array([98.8, 99.3, 96.8, 98.8, 98.6, 99.1, 98.8, 97.6, 99.5, 98.8])"
      ]
     },
     "execution_count": 70,
     "metadata": {},
     "output_type": "execute_result"
    }
   ],
   "source": [
    "randomsample = np.random.choice(df.temperature, size=10)\n",
    "randomsample"
   ]
  },
  {
   "cell_type": "code",
   "execution_count": 71,
   "metadata": {},
   "outputs": [
    {
     "name": "stdout",
     "output_type": "stream",
     "text": [
      "0.038895492079185294\n",
      "0.969822836769338\n"
     ]
    }
   ],
   "source": [
    "#t-test\n",
    "t_stat = stats.ttest_1samp(randomsample, 98.6)[0]\n",
    "p_stat = stats.ttest_1samp(randomsample, 98.6)[1]\n",
    "print(t_stat)\n",
    "print(p_stat)"
   ]
  },
  {
   "cell_type": "code",
   "execution_count": 72,
   "metadata": {},
   "outputs": [
    {
     "name": "stdout",
     "output_type": "stream",
     "text": [
      "0.040999448561087934\n",
      "1.0327036645215353\n"
     ]
    }
   ],
   "source": [
    "#z-test\n",
    "sem = np.std(randomsample)/np.sqrt(len(randomsample))\n",
    "z_stat = (np.mean(randomsample) - 98.6)/sem\n",
    "pz_stat = 2*stats.norm.cdf(z_stat)\n",
    "\n",
    "print(z_stat)\n",
    "print(pz_stat)"
   ]
  },
  {
   "cell_type": "markdown",
   "metadata": {},
   "source": [
    "T-test is the correct test to use since the population standard deviation is not known. The p-value is greater than 0.05, which means the null hypothesis cannot be rejected (X = 98.6). We cannot reasonably conclude that the population mean is *not* 98.6"
   ]
  },
  {
   "cell_type": "markdown",
   "metadata": {},
   "source": [
    "# 5. At what temperature should we consider someone's temperature to be \"abnormal\"?\n",
    "As in the previous example, try calculating everything using the bootstrap approach, as well as the frequentist approach.\n",
    "Start by computing the margin of error and confidence interval. When calculating the confidence interval, keep in mind that you should use the appropriate formula for one draw, and not N draws.\n",
    "\n",
    "**Start by computing the margin of error and confidence interval.**\n",
    "\n",
    "**Bootstrap approach**"
   ]
  },
  {
   "cell_type": "code",
   "execution_count": 88,
   "metadata": {},
   "outputs": [
    {
     "name": "stdout",
     "output_type": "stream",
     "text": [
      "P-value: 0.0\n",
      "BS sample mean: 98.24956591538461\n",
      "(96.81775582674824, 99.68070571171332)\n",
      "Margin of error: +/-1.4311397963287078\n",
      "I am 95% confident that a \"normal\" body temperature is between 96.82 and 99.68\n"
     ]
    }
   ],
   "source": [
    "BS_sample1 = np.empty(100000)\n",
    "\n",
    "n1 = len(BS_sample1)\n",
    "\n",
    "for i in range(n1):\n",
    "    BS_sample2 = np.random.choice(df.temperature, len(df.temperature))\n",
    "    BS_sample1[i] = np.mean(BS_sample2)\n",
    "    \n",
    "p = np.sum(BS_sample1 >= 98.6) / 2\n",
    "#p-value = (# boot-test-statistics >= observed test-statistic)/# bootstrap samples\n",
    "\n",
    "print('P-value: {}'.format(p))\n",
    "print('BS sample mean: {}'.format(np.mean(BS_sample1)))\n",
    "\n",
    "#95% confidence interval\n",
    "ci = stats.norm.interval(0.95, loc=np.mean(df.temperature), scale = np.std(df.temperature))\n",
    "print(ci)\n",
    "print('Margin of error: +/-{}'.format(ci[1]-np.mean(BS_sample1)))\n",
    "print('I am 95% confident that a \"normal\" body temperature is between',round(ci[0],2),'and', round(ci[1],2))"
   ]
  },
  {
   "cell_type": "markdown",
   "metadata": {},
   "source": [
    "**Frequentist Approach**<br>\n",
    "In the frequentist approach, the confidence interval is based on the repetition of the observations.\n",
    "We want to solve for mu "
   ]
  },
  {
   "cell_type": "code",
   "execution_count": 78,
   "metadata": {},
   "outputs": [
    {
     "name": "stdout",
     "output_type": "stream",
     "text": [
      "-5.475925202078116\n"
     ]
    }
   ],
   "source": [
    "t_stat = (np.mean(df.temperature) - 98.6)/(np.std(df.temperature)/(math.sqrt(len(df.temperature))))\n",
    "print(t_stat)\n",
    "#95% confidence interval\n",
    "\n"
   ]
  },
  {
   "cell_type": "markdown",
   "metadata": {},
   "source": [
    "When sampling the population, 95% of the time sampling will yield a body temperature between 96.82 and 99.68 F. Abnormal temperatures (5% of the sampling) will be either below 96.82F or above 99.68F. "
   ]
  },
  {
   "cell_type": "markdown",
   "metadata": {},
   "source": [
    "# 6. Is there a significant difference between males and females in normal temperature?\n",
    "What testing approach did you use and why?\n",
    "\n",
    "Write a story with your conclusion in the context of the original problem."
   ]
  },
  {
   "cell_type": "markdown",
   "metadata": {},
   "source": [
    "I am going to use a two sample t test to evaluate whether gender affects body temperatures<br>\n",
    "Ho: Average male body temperature is equal to average female body temperature<br>\n",
    "Ha: Average male body temperature is not equal to average female body temperature"
   ]
  },
  {
   "cell_type": "code",
   "execution_count": 86,
   "metadata": {},
   "outputs": [
    {
     "data": {
      "text/html": [
       "<div>\n",
       "<style scoped>\n",
       "    .dataframe tbody tr th:only-of-type {\n",
       "        vertical-align: middle;\n",
       "    }\n",
       "\n",
       "    .dataframe tbody tr th {\n",
       "        vertical-align: top;\n",
       "    }\n",
       "\n",
       "    .dataframe thead th {\n",
       "        text-align: right;\n",
       "    }\n",
       "</style>\n",
       "<table border=\"1\" class=\"dataframe\">\n",
       "  <thead>\n",
       "    <tr style=\"text-align: right;\">\n",
       "      <th></th>\n",
       "      <th>temperature</th>\n",
       "      <th>gender</th>\n",
       "      <th>heart_rate</th>\n",
       "    </tr>\n",
       "  </thead>\n",
       "  <tbody>\n",
       "    <tr>\n",
       "      <th>2</th>\n",
       "      <td>97.8</td>\n",
       "      <td>M</td>\n",
       "      <td>73.0</td>\n",
       "    </tr>\n",
       "    <tr>\n",
       "      <th>5</th>\n",
       "      <td>99.2</td>\n",
       "      <td>M</td>\n",
       "      <td>83.0</td>\n",
       "    </tr>\n",
       "    <tr>\n",
       "      <th>6</th>\n",
       "      <td>98.0</td>\n",
       "      <td>M</td>\n",
       "      <td>71.0</td>\n",
       "    </tr>\n",
       "    <tr>\n",
       "      <th>7</th>\n",
       "      <td>98.8</td>\n",
       "      <td>M</td>\n",
       "      <td>78.0</td>\n",
       "    </tr>\n",
       "    <tr>\n",
       "      <th>12</th>\n",
       "      <td>98.2</td>\n",
       "      <td>M</td>\n",
       "      <td>72.0</td>\n",
       "    </tr>\n",
       "  </tbody>\n",
       "</table>\n",
       "</div>"
      ],
      "text/plain": [
       "    temperature gender  heart_rate\n",
       "2          97.8      M        73.0\n",
       "5          99.2      M        83.0\n",
       "6          98.0      M        71.0\n",
       "7          98.8      M        78.0\n",
       "12         98.2      M        72.0"
      ]
     },
     "execution_count": 86,
     "metadata": {},
     "output_type": "execute_result"
    }
   ],
   "source": [
    "#create male and female data frames for use in the two sample t test\n",
    "m = df[df.gender =='M']\n",
    "fm = df[df.gender == 'F']\n",
    "\n",
    "m.head()"
   ]
  },
  {
   "cell_type": "code",
   "execution_count": 98,
   "metadata": {},
   "outputs": [
    {
     "name": "stdout",
     "output_type": "stream",
     "text": [
      "Male temp range: (96.74565498329211, 99.46357578593869)\n",
      "Male avg temp: 98.1046153846154\n",
      "Margin of error (male): +/- 1.3589604013232872\n",
      "Female temp range: (96.94788968478372, 99.83980262290854)\n",
      "Female avg temp: 98.39384615384613\n",
      "Margin of error (female): +/- 1.4459564690624092\n",
      "Ttest_indResult(statistic=-2.2854345381656103, pvalue=0.02393188312239561)\n"
     ]
    }
   ],
   "source": [
    "gender_t = stats.ttest_ind(m['temperature'],fm['temperature'])\n",
    "ci_m = stats.norm.interval(0.95, loc=np.mean(m.temperature), scale = np.std(m.temperature))\n",
    "ci_fm = stats.norm.interval(0.95, loc=np.mean(fm.temperature), scale = np.std(fm.temperature))\n",
    "print('Male temp range:', ci_m)\n",
    "print('Male avg temp:', np.mean(m.temperature))\n",
    "print('Margin of error (male): +/-', ci_m[1]-np.mean(m.temperature))\n",
    "print('Female temp range:', ci_fm)\n",
    "print('Female avg temp:', np.mean(fm.temperature))\n",
    "print('Margin of error (female): +/-', ci_fm[1]-np.mean(fm.temperature))\n",
    "print(gender_t)"
   ]
  },
  {
   "cell_type": "markdown",
   "metadata": {},
   "source": [
    "Since the p value is less than 0.05, we can reject the null hypothesis (gender does not affect average body temperature) with 95% confidence. In other words, we are 95% confident that there is a difference in normal body temperatures between the genders."
   ]
  },
  {
   "cell_type": "markdown",
   "metadata": {},
   "source": [
    "# Conclusions <br>\n",
    "Based on our data set, we are 95% confident the average human body temperature is 98.25 +/- 1.43 F, less than the traditionally accepted value of 98.6 F. \n",
    "We are 95% confident that the average body temperature is 98.10 +/- 1.36 F for males and 98.39 +/- 1.45 F for females. A body temperature outside of these gender-specific ranges would be considered to be abnormal.\n",
    "Females are significantly warmer and have more varying body temperatures than males.\n",
    "\n"
   ]
  },
  {
   "cell_type": "code",
   "execution_count": null,
   "metadata": {},
   "outputs": [],
   "source": []
  }
 ],
 "metadata": {
  "kernelspec": {
   "display_name": "Python 3",
   "language": "python",
   "name": "python3"
  },
  "language_info": {
   "codemirror_mode": {
    "name": "ipython",
    "version": 3
   },
   "file_extension": ".py",
   "mimetype": "text/x-python",
   "name": "python",
   "nbconvert_exporter": "python",
   "pygments_lexer": "ipython3",
   "version": "3.7.3"
  }
 },
 "nbformat": 4,
 "nbformat_minor": 1
}
